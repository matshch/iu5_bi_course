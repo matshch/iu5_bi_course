{
  "nbformat": 4,
  "nbformat_minor": 0,
  "metadata": {
    "anaconda-cloud": {},
    "kernelspec": {
      "name": "python3",
      "display_name": "Python 3"
    },
    "colab": {
      "name": "lab2/task2.ipynb",
      "provenance": [],
      "collapsed_sections": [],
      "include_colab_link": true
    },
    "widgets": {
      "application/vnd.jupyter.widget-state+json": {
        "2646448198c34627bff96f49d0f69ac3": {
          "model_module": "@jupyter-widgets/controls",
          "model_name": "HBoxModel",
          "state": {
            "_view_name": "HBoxView",
            "_dom_classes": [],
            "_model_name": "HBoxModel",
            "_view_module": "@jupyter-widgets/controls",
            "_model_module_version": "1.5.0",
            "_view_count": null,
            "_view_module_version": "1.5.0",
            "box_style": "",
            "layout": "IPY_MODEL_506c9d5da6e3499d96c5476810c41043",
            "_model_module": "@jupyter-widgets/controls",
            "children": [
              "IPY_MODEL_285cd405fa63403e9a0b6604e32c5af3",
              "IPY_MODEL_b19e7c41695e4734bf82610b6252c4a3"
            ]
          }
        },
        "506c9d5da6e3499d96c5476810c41043": {
          "model_module": "@jupyter-widgets/base",
          "model_name": "LayoutModel",
          "state": {
            "_view_name": "LayoutView",
            "grid_template_rows": null,
            "right": null,
            "justify_content": null,
            "_view_module": "@jupyter-widgets/base",
            "overflow": null,
            "_model_module_version": "1.2.0",
            "_view_count": null,
            "flex_flow": null,
            "width": null,
            "min_width": null,
            "border": null,
            "align_items": null,
            "bottom": null,
            "_model_module": "@jupyter-widgets/base",
            "top": null,
            "grid_column": null,
            "overflow_y": null,
            "overflow_x": null,
            "grid_auto_flow": null,
            "grid_area": null,
            "grid_template_columns": null,
            "flex": null,
            "_model_name": "LayoutModel",
            "justify_items": null,
            "grid_row": null,
            "max_height": null,
            "align_content": null,
            "visibility": null,
            "align_self": null,
            "height": null,
            "min_height": null,
            "padding": null,
            "grid_auto_rows": null,
            "grid_gap": null,
            "max_width": null,
            "order": null,
            "_view_module_version": "1.2.0",
            "grid_template_areas": null,
            "object_position": null,
            "object_fit": null,
            "grid_auto_columns": null,
            "margin": null,
            "display": null,
            "left": null
          }
        },
        "285cd405fa63403e9a0b6604e32c5af3": {
          "model_module": "@jupyter-widgets/controls",
          "model_name": "IntProgressModel",
          "state": {
            "_view_name": "ProgressView",
            "style": "IPY_MODEL_8aa4e02db9a048d9aeda10ba67a7a526",
            "_dom_classes": [],
            "description": "100%",
            "_model_name": "IntProgressModel",
            "bar_style": "success",
            "max": 5000,
            "_view_module": "@jupyter-widgets/controls",
            "_model_module_version": "1.5.0",
            "value": 5000,
            "_view_count": null,
            "_view_module_version": "1.5.0",
            "orientation": "horizontal",
            "min": 0,
            "description_tooltip": null,
            "_model_module": "@jupyter-widgets/controls",
            "layout": "IPY_MODEL_a3c8c58e2aaf428ea711f0b6c892da8a"
          }
        },
        "b19e7c41695e4734bf82610b6252c4a3": {
          "model_module": "@jupyter-widgets/controls",
          "model_name": "HTMLModel",
          "state": {
            "_view_name": "HTMLView",
            "style": "IPY_MODEL_fe3ff8f63396406e82a26434123bbf90",
            "_dom_classes": [],
            "description": "",
            "_model_name": "HTMLModel",
            "placeholder": "​",
            "_view_module": "@jupyter-widgets/controls",
            "_model_module_version": "1.5.0",
            "value": " 5000/5000 [05:35&lt;00:00, 14.91it/s, mean_reward=200]",
            "_view_count": null,
            "_view_module_version": "1.5.0",
            "description_tooltip": null,
            "_model_module": "@jupyter-widgets/controls",
            "layout": "IPY_MODEL_f009d37d115546c2975f61ef6de19195"
          }
        },
        "8aa4e02db9a048d9aeda10ba67a7a526": {
          "model_module": "@jupyter-widgets/controls",
          "model_name": "ProgressStyleModel",
          "state": {
            "_view_name": "StyleView",
            "_model_name": "ProgressStyleModel",
            "description_width": "initial",
            "_view_module": "@jupyter-widgets/base",
            "_model_module_version": "1.5.0",
            "_view_count": null,
            "_view_module_version": "1.2.0",
            "bar_color": null,
            "_model_module": "@jupyter-widgets/controls"
          }
        },
        "a3c8c58e2aaf428ea711f0b6c892da8a": {
          "model_module": "@jupyter-widgets/base",
          "model_name": "LayoutModel",
          "state": {
            "_view_name": "LayoutView",
            "grid_template_rows": null,
            "right": null,
            "justify_content": null,
            "_view_module": "@jupyter-widgets/base",
            "overflow": null,
            "_model_module_version": "1.2.0",
            "_view_count": null,
            "flex_flow": null,
            "width": null,
            "min_width": null,
            "border": null,
            "align_items": null,
            "bottom": null,
            "_model_module": "@jupyter-widgets/base",
            "top": null,
            "grid_column": null,
            "overflow_y": null,
            "overflow_x": null,
            "grid_auto_flow": null,
            "grid_area": null,
            "grid_template_columns": null,
            "flex": null,
            "_model_name": "LayoutModel",
            "justify_items": null,
            "grid_row": null,
            "max_height": null,
            "align_content": null,
            "visibility": null,
            "align_self": null,
            "height": null,
            "min_height": null,
            "padding": null,
            "grid_auto_rows": null,
            "grid_gap": null,
            "max_width": null,
            "order": null,
            "_view_module_version": "1.2.0",
            "grid_template_areas": null,
            "object_position": null,
            "object_fit": null,
            "grid_auto_columns": null,
            "margin": null,
            "display": null,
            "left": null
          }
        },
        "fe3ff8f63396406e82a26434123bbf90": {
          "model_module": "@jupyter-widgets/controls",
          "model_name": "DescriptionStyleModel",
          "state": {
            "_view_name": "StyleView",
            "_model_name": "DescriptionStyleModel",
            "description_width": "",
            "_view_module": "@jupyter-widgets/base",
            "_model_module_version": "1.5.0",
            "_view_count": null,
            "_view_module_version": "1.2.0",
            "_model_module": "@jupyter-widgets/controls"
          }
        },
        "f009d37d115546c2975f61ef6de19195": {
          "model_module": "@jupyter-widgets/base",
          "model_name": "LayoutModel",
          "state": {
            "_view_name": "LayoutView",
            "grid_template_rows": null,
            "right": null,
            "justify_content": null,
            "_view_module": "@jupyter-widgets/base",
            "overflow": null,
            "_model_module_version": "1.2.0",
            "_view_count": null,
            "flex_flow": null,
            "width": null,
            "min_width": null,
            "border": null,
            "align_items": null,
            "bottom": null,
            "_model_module": "@jupyter-widgets/base",
            "top": null,
            "grid_column": null,
            "overflow_y": null,
            "overflow_x": null,
            "grid_auto_flow": null,
            "grid_area": null,
            "grid_template_columns": null,
            "flex": null,
            "_model_name": "LayoutModel",
            "justify_items": null,
            "grid_row": null,
            "max_height": null,
            "align_content": null,
            "visibility": null,
            "align_self": null,
            "height": null,
            "min_height": null,
            "padding": null,
            "grid_auto_rows": null,
            "grid_gap": null,
            "max_width": null,
            "order": null,
            "_view_module_version": "1.2.0",
            "grid_template_areas": null,
            "object_position": null,
            "object_fit": null,
            "grid_auto_columns": null,
            "margin": null,
            "display": null,
            "left": null
          }
        }
      }
    }
  },
  "cells": [
    {
      "cell_type": "markdown",
      "metadata": {
        "id": "view-in-github",
        "colab_type": "text"
      },
      "source": [
        "<a href=\"https://colab.research.google.com/github/matshch/iu5_bi_course/blob/master/lab2/task2.ipynb\" target=\"_parent\"><img src=\"https://colab.research.google.com/assets/colab-badge.svg\" alt=\"Open In Colab\"/></a>"
      ]
    },
    {
      "cell_type": "markdown",
      "metadata": {
        "deletable": true,
        "editable": true,
        "id": "vYvRqVEPxiWf",
        "colab_type": "text"
      },
      "source": [
        "# Лабораторная работа №2\n",
        "## Задача №2\n",
        "### Условие\n",
        "Шест прикреплен неуправляемым шарниром к&nbsp;тележке, которая движется по&nbsp;бесфрикционному пути. Маятник начинает двигаться вертикально, и цель состоит в&nbsp;том, чтобы предотвратить его падение, увеличивая и уменьшая скорость тележки.\n",
        "\n",
        "#### Наблюдения\n",
        "Номер | Наблюдение                | Минимум          | Максимум\n",
        "----- | ------------------------- | ---------------- | --------\n",
        "0     | Позиция тележки           | &minus;2,4       | +2,4\n",
        "1     | Скорость тележки          | &minus;&infin;   | +&infin;\n",
        "2     | Угол шеста                | &minus;41,8&deg; | +41,8&deg;\n",
        "3     | Скорость шеста на кончике | &minus;&infin;   | +&infin;\n",
        "\n",
        "#### Действия\n",
        "Номер | Действие\n",
        "----- | --------\n",
        "0     | Толкнуть тележку влево\n",
        "1     | Толкнуть тележку вправо\n",
        "\n",
        "Примечание: величина, на&nbsp;которую скорость уменьшается или увеличивается, не&nbsp;является фиксированной, поскольку она зависит от&nbsp;угла, на&nbsp;который указывает шест. Это происходит потому, что центр тяжести полюса увеличивает количество энергии, необходимой для&nbsp;перемещения тележки под&nbsp;ним.\n",
        "\n",
        "#### Награда\n",
        "Вознаграждение составляет 1 за каждый сделанный шаг, включая последний шаг.\n",
        "\n",
        "#### Начальное состояние\n",
        "Всем наблюдениям присваивается равномерное случайное значение в&nbsp;пределах &pm;0,05.\n",
        "\n",
        "#### Окончание эпизода\n",
        "1. Угол шеста больше, чем &pm;12&deg;.\n",
        "2. Положение тележки больше &pm;2,4 (центр тележки достигает края дисплея).\n",
        "3. Длина эпизода больше 200.\n",
        "\n",
        "#### Требования решения\n",
        "Считается решенным, когда среднее вознаграждение больше или равно 195,0 в&nbsp;течение 100&nbsp;последовательных испытаний."
      ]
    },
    {
      "cell_type": "markdown",
      "metadata": {
        "id": "8h-oUFtJ40i0",
        "colab_type": "text"
      },
      "source": [
        "### Решение\n",
        "Импортируем все необходимые пакеты:"
      ]
    },
    {
      "cell_type": "code",
      "metadata": {
        "id": "T-fA7WvTx3Py",
        "colab_type": "code",
        "colab": {
          "base_uri": "https://localhost:8080/",
          "height": 204
        },
        "outputId": "dffc95a9-a3f0-4298-cb59-ffe0a227da0b"
      },
      "source": [
        "!pip install git+https://github.com/google-research/tf-slim"
      ],
      "execution_count": 1,
      "outputs": [
        {
          "output_type": "stream",
          "text": [
            "Collecting git+https://github.com/google-research/tf-slim\n",
            "  Cloning https://github.com/google-research/tf-slim to /tmp/pip-req-build-6beesfel\n",
            "  Running command git clone -q https://github.com/google-research/tf-slim /tmp/pip-req-build-6beesfel\n",
            "Requirement already satisfied (use --upgrade to upgrade): tf-slim==1.1 from git+https://github.com/google-research/tf-slim in /root/.local/lib/python3.6/site-packages\n",
            "Requirement already satisfied: absl-py>=0.2.2 in /usr/local/lib/python3.6/dist-packages (from tf-slim==1.1) (0.9.0)\n",
            "Requirement already satisfied: six in /usr/local/lib/python3.6/dist-packages (from absl-py>=0.2.2->tf-slim==1.1) (1.12.0)\n",
            "Building wheels for collected packages: tf-slim\n",
            "  Building wheel for tf-slim (setup.py) ... \u001b[?25l\u001b[?25hdone\n",
            "  Created wheel for tf-slim: filename=tf_slim-1.1-cp36-none-any.whl size=357897 sha256=ffa56e5900dad05a97587501255fe0941143b8e3621e4239a0a86ec56ef245ed\n",
            "  Stored in directory: /tmp/pip-ephem-wheel-cache-p3niztu3/wheels/bb/98/dc/eba6500d756d16f6ff371b39ed733d26cec1b0b0085e1cb0df\n",
            "Successfully built tf-slim\n"
          ],
          "name": "stdout"
        }
      ]
    },
    {
      "cell_type": "code",
      "metadata": {
        "deletable": true,
        "editable": true,
        "id": "w-DAcItGxiWg",
        "colab_type": "code",
        "colab": {
          "base_uri": "https://localhost:8080/",
          "height": 88
        },
        "outputId": "de68f48b-e98e-42c3-d54c-8c377f08c75a"
      },
      "source": [
        "import tensorflow.compat.v1 as tf\n",
        "import tqdm.notebook as tqdm\n",
        "import tf_slim\n",
        "import numpy as np\n",
        "import gym\n",
        "import matplotlib.pyplot as plt\n",
        "%matplotlib inline\n",
        "\n",
        "tf.disable_v2_behavior()"
      ],
      "execution_count": 2,
      "outputs": [
        {
          "output_type": "stream",
          "text": [
            "WARNING:tensorflow:From /usr/local/lib/python3.6/dist-packages/tensorflow/python/compat/v2_compat.py:96: disable_resource_variables (from tensorflow.python.ops.variable_scope) is deprecated and will be removed in a future version.\n",
            "Instructions for updating:\n",
            "non-resource variables are not supported in the long term\n"
          ],
          "name": "stdout"
        }
      ]
    },
    {
      "cell_type": "markdown",
      "metadata": {
        "id": "2cDovvqn5GQc",
        "colab_type": "text"
      },
      "source": [
        "Загрузим необходимое по условию окружение:"
      ]
    },
    {
      "cell_type": "code",
      "metadata": {
        "deletable": true,
        "editable": true,
        "id": "tP5rTkuZxiWl",
        "colab_type": "code",
        "colab": {}
      },
      "source": [
        "env = gym.make('CartPole-v0')"
      ],
      "execution_count": 0,
      "outputs": []
    },
    {
      "cell_type": "markdown",
      "metadata": {
        "deletable": true,
        "editable": true,
        "id": "Pk6NhbS-xiWq",
        "colab_type": "text"
      },
      "source": [
        "Напишем функцию, подсчитывающую награду:"
      ]
    },
    {
      "cell_type": "code",
      "metadata": {
        "deletable": true,
        "editable": true,
        "id": "5DGLgOVUxiWr",
        "colab_type": "code",
        "colab": {}
      },
      "source": [
        "gamma = 0.99\n",
        "\n",
        "def discount_rewards(r):\n",
        "  discounted_r = np.zeros_like(r)\n",
        "  running_add = 0\n",
        "  for t in reversed(range(0, r.size)):\n",
        "    running_add = running_add * gamma + r[t]\n",
        "    discounted_r[t] = running_add\n",
        "  return discounted_r"
      ],
      "execution_count": 0,
      "outputs": []
    },
    {
      "cell_type": "markdown",
      "metadata": {
        "id": "EkoAreIz8nmb",
        "colab_type": "text"
      },
      "source": [
        "Определим класс агента, который будет работать в описанной выше среде."
      ]
    },
    {
      "cell_type": "code",
      "metadata": {
        "deletable": true,
        "editable": true,
        "id": "lMG7yq85xiWu",
        "colab_type": "code",
        "colab": {}
      },
      "source": [
        "class agent():\n",
        "  def __init__(self, lr, s_size, a_size, h_size):\n",
        "    self.state_in= tf.placeholder(shape=[None, s_size], dtype=tf.float32)\n",
        "    hidden = tf_slim.fully_connected(self.state_in, h_size, biases_initializer=None, activation_fn=tf.nn.relu)\n",
        "    self.output = tf_slim.fully_connected(hidden, a_size, activation_fn=tf.nn.softmax, biases_initializer=None)\n",
        "    self.chosen_action = tf.argmax(self.output, 1)\n",
        "\n",
        "    self.reward_holder = tf.placeholder(shape=[None], dtype=tf.float32)\n",
        "    self.action_holder = tf.placeholder(shape=[None], dtype=tf.int32)\n",
        "\n",
        "    self.indexes = tf.range(0, tf.shape(self.output)[0]) * tf.shape(self.output)[1] + self.action_holder\n",
        "    self.responsible_outputs = tf.gather(tf.reshape(self.output, [-1]), self.indexes)\n",
        "\n",
        "    self.loss = -tf.reduce_mean(tf.log(self.responsible_outputs) * self.reward_holder)\n",
        "\n",
        "    tvars = tf.trainable_variables()\n",
        "    self.gradient_holders = []\n",
        "    for idx,var in enumerate(tvars):\n",
        "      placeholder = tf.placeholder(tf.float32,name=str(idx) + \"_holder\")\n",
        "      self.gradient_holders.append(placeholder)\n",
        "\n",
        "    self.gradients = tf.gradients(self.loss, tvars)\n",
        "\n",
        "    optimizer = tf.train.AdamOptimizer(learning_rate=lr)\n",
        "    self.update_batch = optimizer.apply_gradients(zip(self.gradient_holders, tvars))"
      ],
      "execution_count": 0,
      "outputs": []
    },
    {
      "cell_type": "markdown",
      "metadata": {
        "deletable": true,
        "editable": true,
        "id": "sExFQN3LxiWx",
        "colab_type": "text"
      },
      "source": [
        "Обучаем агента:"
      ]
    },
    {
      "cell_type": "code",
      "metadata": {
        "deletable": true,
        "editable": true,
        "id": "1Y06XJnexiWy",
        "colab_type": "code",
        "colab": {
          "base_uri": "https://localhost:8080/",
          "height": 137,
          "referenced_widgets": [
            "2646448198c34627bff96f49d0f69ac3",
            "506c9d5da6e3499d96c5476810c41043",
            "285cd405fa63403e9a0b6604e32c5af3",
            "b19e7c41695e4734bf82610b6252c4a3",
            "8aa4e02db9a048d9aeda10ba67a7a526",
            "a3c8c58e2aaf428ea711f0b6c892da8a",
            "fe3ff8f63396406e82a26434123bbf90",
            "f009d37d115546c2975f61ef6de19195"
          ]
        },
        "outputId": "88149a94-df56-464a-88ff-3ed24df7b3b9"
      },
      "source": [
        "tf.reset_default_graph()\n",
        "\n",
        "myAgent = agent(lr=1e-2, s_size=4, a_size=2, h_size=8)\n",
        "\n",
        "total_episodes = 5000\n",
        "max_ep = 200\n",
        "update_frequency = 10\n",
        "\n",
        "init = tf.global_variables_initializer()\n",
        "\n",
        "with tf.Session() as sess:\n",
        "  with tqdm.tqdm(total=total_episodes) as progress:\n",
        "    sess.run(init)\n",
        "    i = 0\n",
        "    total_reward = []\n",
        "    total_length = []\n",
        "        \n",
        "    gradBuffer = sess.run(tf.trainable_variables())\n",
        "    for ix, grad in enumerate(gradBuffer):\n",
        "      gradBuffer[ix] = 0\n",
        "\n",
        "    while i < total_episodes:\n",
        "      s = env.reset()\n",
        "      running_reward = 0\n",
        "      ep_history = []\n",
        "      for j in range(max_ep):\n",
        "        a_dist = sess.run(myAgent.output,feed_dict={myAgent.state_in:[s]})\n",
        "        a = np.random.choice(a_dist[0],p=a_dist[0])\n",
        "        a = np.argmax(a_dist == a)\n",
        "\n",
        "        s1, r, done, _ = env.step(a)\n",
        "        ep_history.append([s, a, r, s1])\n",
        "        s = s1\n",
        "        running_reward += r\n",
        "        if done == True:\n",
        "          ep_history = np.array(ep_history)\n",
        "          ep_history[:,2] = discount_rewards(ep_history[:,2])\n",
        "          feed_dict = {\n",
        "              myAgent.reward_holder: ep_history[:,2],\n",
        "              myAgent.action_holder: ep_history[:,1],\n",
        "              myAgent.state_in:      np.vstack(ep_history[:,0])\n",
        "            }\n",
        "          grads = sess.run(myAgent.gradients, feed_dict=feed_dict)\n",
        "          for idx, grad in enumerate(grads):\n",
        "            gradBuffer[idx] += grad\n",
        "\n",
        "          if i % update_frequency == 0 and i != 0:\n",
        "            feed_dict = dict(zip(myAgent.gradient_holders, gradBuffer))\n",
        "            sess.run(myAgent.update_batch, feed_dict=feed_dict)\n",
        "            for ix, grad in enumerate(gradBuffer):\n",
        "              gradBuffer[ix] = 0\n",
        "\n",
        "          total_reward.append(running_reward)\n",
        "          total_length.append(j)\n",
        "          break\n",
        "\n",
        "      if i % 100 == 0:\n",
        "        progress.set_postfix({\n",
        "            \"mean_reward\": np.mean(total_reward[-100:])\n",
        "        })\n",
        "      i += 1\n",
        "      progress.update()"
      ],
      "execution_count": 6,
      "outputs": [
        {
          "output_type": "stream",
          "text": [
            "WARNING:tensorflow:From /root/.local/lib/python3.6/site-packages/tf_slim/layers/layers.py:1898: Layer.apply (from tensorflow.python.keras.engine.base_layer_v1) is deprecated and will be removed in a future version.\n",
            "Instructions for updating:\n",
            "Please use `layer.__call__` method instead.\n"
          ],
          "name": "stdout"
        },
        {
          "output_type": "display_data",
          "data": {
            "application/vnd.jupyter.widget-view+json": {
              "model_id": "2646448198c34627bff96f49d0f69ac3",
              "version_minor": 0,
              "version_major": 2
            },
            "text/plain": [
              "HBox(children=(IntProgress(value=0, max=5000), HTML(value='')))"
            ]
          },
          "metadata": {
            "tags": []
          }
        },
        {
          "output_type": "stream",
          "text": [
            "\n"
          ],
          "name": "stdout"
        }
      ]
    },
    {
      "cell_type": "markdown",
      "metadata": {
        "id": "iUJDoXbtKD8d",
        "colab_type": "text"
      },
      "source": [
        "Посмотрим на график наград:"
      ]
    },
    {
      "cell_type": "code",
      "metadata": {
        "id": "uLmwlm1aH6B-",
        "colab_type": "code",
        "colab": {
          "base_uri": "https://localhost:8080/",
          "height": 282
        },
        "outputId": "0c8084bc-f17c-4adb-8950-893534a4de83"
      },
      "source": [
        "plt.plot(total_reward)"
      ],
      "execution_count": 7,
      "outputs": [
        {
          "output_type": "execute_result",
          "data": {
            "text/plain": [
              "[<matplotlib.lines.Line2D at 0x7f8077e907b8>]"
            ]
          },
          "metadata": {
            "tags": []
          },
          "execution_count": 7
        },
        {
          "output_type": "display_data",
          "data": {
            "image/png": "[encoded data removed]",
            "text/plain": [
              "<Figure size 432x288 with 1 Axes>"
            ]
          },
          "metadata": {
            "tags": [],
            "needs_background": "light"
          }
        }
      ]
    },
    {
      "cell_type": "markdown",
      "metadata": {
        "id": "Vdy_iErtKGnN",
        "colab_type": "text"
      },
      "source": [
        "Видно, что к концу обучения мы получили достаточно хорошие результаты:"
      ]
    },
    {
      "cell_type": "code",
      "metadata": {
        "id": "Kw8sgQmQKLfp",
        "colab_type": "code",
        "colab": {
          "base_uri": "https://localhost:8080/",
          "height": 282
        },
        "outputId": "499324da-8624-4f40-e095-b28eb48a9c5e"
      },
      "source": [
        "x = range(4900, 5000)\n",
        "y = total_reward[4900:5000]\n",
        "plt.plot(x, y)"
      ],
      "execution_count": 8,
      "outputs": [
        {
          "output_type": "execute_result",
          "data": {
            "text/plain": [
              "[<matplotlib.lines.Line2D at 0x7f80776044a8>]"
            ]
          },
          "metadata": {
            "tags": []
          },
          "execution_count": 8
        },
        {
          "output_type": "display_data",
          "data": {
            "image/png": "[encoded data removed]",
            "text/plain": [
              "<Figure size 432x288 with 1 Axes>"
            ]
          },
          "metadata": {
            "tags": [],
            "needs_background": "light"
          }
        }
      ]
    },
    {
      "cell_type": "markdown",
      "metadata": {
        "id": "2yVAGS0C_A2c",
        "colab_type": "text"
      },
      "source": [
        "### Вывод\n",
        "Данный код выполняет условия задачи."
      ]
    }
  ]
}