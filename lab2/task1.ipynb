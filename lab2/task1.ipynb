{
  "nbformat": 4,
  "nbformat_minor": 0,
  "metadata": {
    "colab": {
      "name": "lab2/task1.ipynb",
      "provenance": [],
      "collapsed_sections": [],
      "authorship_tag": "ABX9TyOSFW83EMPvNmTYtVaIybB7",
      "include_colab_link": true
    },
    "kernelspec": {
      "name": "python3",
      "display_name": "Python 3"
    }
  },
  "cells": [
    {
      "cell_type": "markdown",
      "metadata": {
        "id": "view-in-github",
        "colab_type": "text"
      },
      "source": [
        "<a href=\"https://colab.research.google.com/github/matshch/iu5_bi_course/blob/master/lab2/task1.ipynb\" target=\"_parent\"><img src=\"https://colab.research.google.com/assets/colab-badge.svg\" alt=\"Open In Colab\"/></a>"
      ]
    },
    {
      "cell_type": "markdown",
      "metadata": {
        "id": "UoRq_AChrB-D",
        "colab_type": "text"
      },
      "source": [
        "# Лабораторная работа №2\n",
        "## Задача №1\n",
        "### Условие\n",
        "Есть *N* бандитов, для каждого есть число &minus;100 < *x* < 100, которое подаётся на&nbsp;вход функции `pullBandit`:\n",
        "```python\n",
        "def pullBandit(bandit): #Сгенерировать случайное число\n",
        "   result = np.random.randn(1) \n",
        "   if result > bandit: #Выигрыш \n",
        "        return 1 \n",
        "   else: #Проигрыш \n",
        "        return -1\n",
        "```\n",
        "Значение результата используется в&nbsp;качестве награды.\n",
        "\n",
        "Политика RL: policy gradient (лучше если это будет vanilla, без модификаций).\n",
        "\n",
        "Задача: найти номер лучшего бандита."
      ]
    },
    {
      "cell_type": "markdown",
      "metadata": {
        "id": "l6GT9EB6ryGw",
        "colab_type": "text"
      },
      "source": [
        "### Решение\n",
        "Импортируем все необходимые пакеты:"
      ]
    },
    {
      "cell_type": "code",
      "metadata": {
        "id": "_AhKSwC0iJbT",
        "colab_type": "code",
        "colab": {}
      },
      "source": [
        "import numpy as np\n",
        "import tensorflow.compat.v1 as tf\n",
        "\n",
        "tf.disable_v2_behavior()"
      ],
      "execution_count": 0,
      "outputs": []
    },
    {
      "cell_type": "markdown",
      "metadata": {
        "id": "qUc87taIsEFD",
        "colab_type": "text"
      },
      "source": [
        "Задаём коэффициенты бандитов:"
      ]
    },
    {
      "cell_type": "code",
      "metadata": {
        "id": "9mTJFXa-sB5Q",
        "colab_type": "code",
        "colab": {}
      },
      "source": [
        "bandits = [0.2, 0.1, 0.5, -5]\n",
        "num_bandits = len(bandits)"
      ],
      "execution_count": 0,
      "outputs": []
    },
    {
      "cell_type": "markdown",
      "metadata": {
        "id": "PvMo-MXosHgK",
        "colab_type": "text"
      },
      "source": [
        "Используем функцию из условия:"
      ]
    },
    {
      "cell_type": "code",
      "metadata": {
        "id": "m463pEejlFKC",
        "colab_type": "code",
        "colab": {}
      },
      "source": [
        "def pullBandit(bandit):\n",
        "  result = np.random.randn(1)  #Сгенерировать случайное число\n",
        "  if result > bandit:  #Выигрыш\n",
        "    return 1\n",
        "  else:  #Проигрыш\n",
        "    return -1"
      ],
      "execution_count": 0,
      "outputs": []
    },
    {
      "cell_type": "markdown",
      "metadata": {
        "id": "UyYqGTwpsOix",
        "colab_type": "text"
      },
      "source": [
        "Задаём граф обучения нейронной сети:"
      ]
    },
    {
      "cell_type": "code",
      "metadata": {
        "id": "YJig12a2lHcG",
        "colab_type": "code",
        "colab": {}
      },
      "source": [
        "tf.reset_default_graph()\n",
        "\n",
        "weights = tf.Variable(tf.ones([num_bandits]))\n",
        "chosen_action = tf.argmax(weights, 0)\n",
        "\n",
        "reward_holder = tf.placeholder(shape=[1], dtype=tf.float32)\n",
        "action_holder = tf.placeholder(shape=[1], dtype=tf.int32)\n",
        "responsible_weight = tf.slice(weights,action_holder, [1])\n",
        "loss = -(tf.log(responsible_weight) * reward_holder)\n",
        "optimizer = tf.train.GradientDescentOptimizer(learning_rate=0.001)\n",
        "update = optimizer.minimize(loss)"
      ],
      "execution_count": 0,
      "outputs": []
    },
    {
      "cell_type": "markdown",
      "metadata": {
        "id": "ZonHHtzOsV4W",
        "colab_type": "text"
      },
      "source": [
        "Обучаем сеть и проверяем её решение:"
      ]
    },
    {
      "cell_type": "code",
      "metadata": {
        "id": "lfIWGwBOlbH5",
        "colab_type": "code",
        "colab": {
          "base_uri": "https://localhost:8080/",
          "height": 391
        },
        "outputId": "b23bc3f7-3f8e-428e-d889-27f5115e4526"
      },
      "source": [
        "total_episodes = 1000\n",
        "total_reward = np.zeros(num_bandits)\n",
        "e = 0.1  # chance of random selection\n",
        "\n",
        "init = tf.initialize_all_variables()\n",
        "\n",
        "with tf.Session() as sess:\n",
        "  sess.run(init)\n",
        "  i = 0\n",
        "  while i < total_episodes:\n",
        "    if np.random.rand(1) < e:\n",
        "      action = np.random.randint(num_bandits)\n",
        "    else:\n",
        "      action = sess.run(chosen_action)\n",
        "\n",
        "    reward = pullBandit(bandits[action])\n",
        "\n",
        "    _, resp, ww = sess.run([update,responsible_weight,weights], feed_dict={\n",
        "        reward_holder: [reward],\n",
        "        action_holder: [action]})\n",
        "\n",
        "    total_reward[action] += reward\n",
        "    if i % 50 == 0:\n",
        "      print(f\"Running reward for the {num_bandits} bandits: {total_reward}\")\n",
        "    i += 1\n",
        "print(f\"The agent thinks bandit {np.argmax(ww)+1} is the most promising....\")\n",
        "if np.argmax(ww) == np.argmax(-np.array(bandits)):\n",
        "  print(\"...and it was right!\")\n",
        "else:\n",
        "  print(\"...and it was wrong!\")"
      ],
      "execution_count": 15,
      "outputs": [
        {
          "output_type": "stream",
          "text": [
            "Running reward for the 4 bandits: [1. 0. 0. 0.]\n",
            "Running reward for the 4 bandits: [-1.  0.  0. 16.]\n",
            "Running reward for the 4 bandits: [ 0.  2.  0. 61.]\n",
            "Running reward for the 4 bandits: [  0.   3.   0. 108.]\n",
            "Running reward for the 4 bandits: [  0.   2.   0. 157.]\n",
            "Running reward for the 4 bandits: [ -1.   2.   0. 206.]\n",
            "Running reward for the 4 bandits: [ -3.   2.   1. 253.]\n",
            "Running reward for the 4 bandits: [ -5.   2.  -1. 297.]\n",
            "Running reward for the 4 bandits: [ -4.   2.  -2. 345.]\n",
            "Running reward for the 4 bandits: [ -5.   4.  -2. 392.]\n",
            "Running reward for the 4 bandits: [ -6.   5.  -4. 438.]\n",
            "Running reward for the 4 bandits: [ -6.   7.  -5. 481.]\n",
            "Running reward for the 4 bandits: [ -8.   7.  -7. 527.]\n",
            "Running reward for the 4 bandits: [ -8.   9.  -6. 574.]\n",
            "Running reward for the 4 bandits: [ -8.   9.  -5. 623.]\n",
            "Running reward for the 4 bandits: [-10.   8.  -6. 667.]\n",
            "Running reward for the 4 bandits: [-10.   6.  -7. 714.]\n",
            "Running reward for the 4 bandits: [-10.   6.  -7. 764.]\n",
            "Running reward for the 4 bandits: [ -9.   4.  -9. 809.]\n",
            "Running reward for the 4 bandits: [ -9.   3. -10. 857.]\n",
            "The agent thinks bandit 4 is the most promising....\n",
            "...and it was right!\n"
          ],
          "name": "stdout"
        }
      ]
    }
  ]
}