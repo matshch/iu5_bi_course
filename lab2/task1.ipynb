{
  "nbformat": 4,
  "nbformat_minor": 0,
  "metadata": {
    "colab": {
      "name": "lab2/task1.ipynb",
      "provenance": [],
      "collapsed_sections": [],
      "authorship_tag": "ABX9TyPd1G/hno61mC6F3MQYN9kv",
      "include_colab_link": true
    },
    "kernelspec": {
      "name": "python3",
      "display_name": "Python 3"
    }
  },
  "cells": [
    {
      "cell_type": "markdown",
      "metadata": {
        "id": "view-in-github",
        "colab_type": "text"
      },
      "source": [
        "<a href=\"https://colab.research.google.com/github/matshch/iu5_bi_course/blob/master/lab2/task1.ipynb\" target=\"_parent\"><img src=\"https://colab.research.google.com/assets/colab-badge.svg\" alt=\"Open In Colab\"/></a>"
      ]
    },
    {
      "cell_type": "markdown",
      "metadata": {
        "id": "UoRq_AChrB-D",
        "colab_type": "text"
      },
      "source": [
        "# Лабораторная работа №2\n",
        "## Задача №1\n",
        "### Условие\n",
        "Есть *N* бандитов, для каждого есть число &minus;100 < *x* < 100, которое подаётся на&nbsp;вход функции `pullBandit`:\n",
        "```python\n",
        "def pullBandit(bandit): #Сгенерировать случайное число\n",
        "   result = np.random.randn(1) \n",
        "   if result > bandit: #Выигрыш \n",
        "        return 1 \n",
        "   else: #Проигрыш \n",
        "        return -1\n",
        "```\n",
        "Значение результата используется в&nbsp;качестве награды.\n",
        "\n",
        "Политика RL: policy gradient (лучше если это будет vanilla, без модификаций).\n",
        "\n",
        "Задача: найти номер лучшего бандита."
      ]
    },
    {
      "cell_type": "markdown",
      "metadata": {
        "id": "l6GT9EB6ryGw",
        "colab_type": "text"
      },
      "source": [
        "### Решение\n",
        "Импортируем все необходимые пакеты:"
      ]
    },
    {
      "cell_type": "code",
      "metadata": {
        "id": "_AhKSwC0iJbT",
        "colab_type": "code",
        "colab": {
          "base_uri": "https://localhost:8080/",
          "height": 88
        },
        "outputId": "439caf63-4be6-4e1e-ec78-d96cdd06358e"
      },
      "source": [
        "import numpy as np\n",
        "import tensorflow.compat.v1 as tf\n",
        "\n",
        "tf.disable_v2_behavior()"
      ],
      "execution_count": 1,
      "outputs": [
        {
          "output_type": "stream",
          "text": [
            "WARNING:tensorflow:From /usr/local/lib/python3.6/dist-packages/tensorflow/python/compat/v2_compat.py:96: disable_resource_variables (from tensorflow.python.ops.variable_scope) is deprecated and will be removed in a future version.\n",
            "Instructions for updating:\n",
            "non-resource variables are not supported in the long term\n"
          ],
          "name": "stdout"
        }
      ]
    },
    {
      "cell_type": "markdown",
      "metadata": {
        "id": "qUc87taIsEFD",
        "colab_type": "text"
      },
      "source": [
        "Задаём коэффициенты бандитов:"
      ]
    },
    {
      "cell_type": "code",
      "metadata": {
        "id": "9mTJFXa-sB5Q",
        "colab_type": "code",
        "colab": {}
      },
      "source": [
        "bandits = [0.2, 0.1, 0.5, -5]\n",
        "num_bandits = len(bandits)"
      ],
      "execution_count": 0,
      "outputs": []
    },
    {
      "cell_type": "markdown",
      "metadata": {
        "id": "PvMo-MXosHgK",
        "colab_type": "text"
      },
      "source": [
        "Используем функцию из условия:"
      ]
    },
    {
      "cell_type": "code",
      "metadata": {
        "id": "m463pEejlFKC",
        "colab_type": "code",
        "colab": {}
      },
      "source": [
        "def pullBandit(bandit):\n",
        "  result = np.random.randn(1)  #Сгенерировать случайное число\n",
        "  if result > bandit:  #Выигрыш\n",
        "    return 1\n",
        "  else:  #Проигрыш\n",
        "    return -1"
      ],
      "execution_count": 0,
      "outputs": []
    },
    {
      "cell_type": "markdown",
      "metadata": {
        "id": "UyYqGTwpsOix",
        "colab_type": "text"
      },
      "source": [
        "Задаём граф обучения нейронной сети:"
      ]
    },
    {
      "cell_type": "code",
      "metadata": {
        "id": "YJig12a2lHcG",
        "colab_type": "code",
        "colab": {}
      },
      "source": [
        "tf.reset_default_graph()\n",
        "\n",
        "weights = tf.Variable(tf.ones([num_bandits]))\n",
        "chosen_action = tf.argmax(weights, 0)\n",
        "\n",
        "reward_holder = tf.placeholder(shape=[1], dtype=tf.float32)\n",
        "action_holder = tf.placeholder(shape=[1], dtype=tf.int32)\n",
        "responsible_weight = tf.slice(weights,action_holder, [1])\n",
        "loss = -(tf.log(responsible_weight) * reward_holder)\n",
        "optimizer = tf.train.GradientDescentOptimizer(learning_rate=0.001)\n",
        "update = optimizer.minimize(loss)"
      ],
      "execution_count": 0,
      "outputs": []
    },
    {
      "cell_type": "markdown",
      "metadata": {
        "id": "ZonHHtzOsV4W",
        "colab_type": "text"
      },
      "source": [
        "Обучаем сеть и проверяем её решение:"
      ]
    },
    {
      "cell_type": "code",
      "metadata": {
        "id": "lfIWGwBOlbH5",
        "colab_type": "code",
        "outputId": "2d5efecc-cb0a-4bde-c5f4-96ad209defd4",
        "colab": {
          "base_uri": "https://localhost:8080/",
          "height": 462
        }
      },
      "source": [
        "total_episodes = 1000\n",
        "total_reward = np.zeros(num_bandits)\n",
        "e = 0.1  # chance of random selection\n",
        "\n",
        "init = tf.initialize_all_variables()\n",
        "\n",
        "with tf.Session() as sess:\n",
        "  sess.run(init)\n",
        "  i = 0\n",
        "  while i < total_episodes:\n",
        "    if np.random.rand(1) < e:\n",
        "      action = np.random.randint(num_bandits)\n",
        "    else:\n",
        "      action = sess.run(chosen_action)\n",
        "\n",
        "    reward = pullBandit(bandits[action])\n",
        "\n",
        "    _, resp, ww = sess.run([update,responsible_weight,weights], feed_dict={\n",
        "        reward_holder: [reward],\n",
        "        action_holder: [action]})\n",
        "\n",
        "    total_reward[action] += reward\n",
        "    if i % 50 == 0:\n",
        "      print(f\"Running reward for the {num_bandits} bandits: {total_reward}\")\n",
        "    i += 1\n",
        "print(f\"The agent thinks bandit {np.argmax(ww)+1} is the most promising....\")\n",
        "if np.argmax(ww) == np.argmax(-np.array(bandits)):\n",
        "  print(\"...and it was right!\")\n",
        "else:\n",
        "  print(\"...and it was wrong!\")"
      ],
      "execution_count": 5,
      "outputs": [
        {
          "output_type": "stream",
          "text": [
            "WARNING:tensorflow:From /usr/local/lib/python3.6/dist-packages/tensorflow/python/util/tf_should_use.py:235: initialize_all_variables (from tensorflow.python.ops.variables) is deprecated and will be removed after 2017-03-02.\n",
            "Instructions for updating:\n",
            "Use `tf.global_variables_initializer` instead.\n",
            "Running reward for the 4 bandits: [-1.  0.  0.  0.]\n",
            "Running reward for the 4 bandits: [-2. -2. -1. 44.]\n",
            "Running reward for the 4 bandits: [-3. -3. -4. 85.]\n",
            "Running reward for the 4 bandits: [ -4.  -2.  -4. 131.]\n",
            "Running reward for the 4 bandits: [ -4.  -6.  -7. 174.]\n",
            "Running reward for the 4 bandits: [ -3.  -7.  -6. 221.]\n",
            "Running reward for the 4 bandits: [ -3.  -8.  -6. 264.]\n",
            "Running reward for the 4 bandits: [ -3. -11.  -7. 310.]\n",
            "Running reward for the 4 bandits: [ -4. -10.  -7. 356.]\n",
            "Running reward for the 4 bandits: [ -5. -11. -11. 400.]\n",
            "Running reward for the 4 bandits: [ -6.  -9. -11. 443.]\n",
            "Running reward for the 4 bandits: [ -8. -10. -11. 490.]\n",
            "Running reward for the 4 bandits: [ -9. -12. -12. 534.]\n",
            "Running reward for the 4 bandits: [-12. -12. -13. 578.]\n",
            "Running reward for the 4 bandits: [-13. -13. -13. 626.]\n",
            "Running reward for the 4 bandits: [-13. -14. -13. 673.]\n",
            "Running reward for the 4 bandits: [-13. -14. -13. 721.]\n",
            "Running reward for the 4 bandits: [-12. -13. -14. 764.]\n",
            "Running reward for the 4 bandits: [-12. -13. -14. 812.]\n",
            "Running reward for the 4 bandits: [-12. -12. -13. 856.]\n",
            "The agent thinks bandit 4 is the most promising....\n",
            "...and it was right!\n"
          ],
          "name": "stdout"
        }
      ]
    },
    {
      "cell_type": "markdown",
      "metadata": {
        "id": "BqOmY-pZD9BQ",
        "colab_type": "text"
      },
      "source": [
        "### Вывод\n",
        "Данный код выполняет условия задачи."
      ]
    }
  ]
}